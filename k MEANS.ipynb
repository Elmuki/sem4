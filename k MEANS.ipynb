{
 "cells": [
  {
   "cell_type": "markdown",
   "id": "a138bc1d",
   "metadata": {},
   "source": [
    "# K-Means Clustering"
   ]
  },
  {
   "cell_type": "code",
   "execution_count": 6,
   "id": "b740db61",
   "metadata": {},
   "outputs": [],
   "source": [
    "import cv2 \n",
    "import numpy as np"
   ]
  },
  {
   "cell_type": "markdown",
   "id": "dc330a49",
   "metadata": {},
   "source": [
    "# Reading images"
   ]
  },
  {
   "cell_type": "code",
   "execution_count": 7,
   "id": "9f58a949",
   "metadata": {},
   "outputs": [
    {
     "data": {
      "text/plain": [
       "array([[[254, 254, 254],\n",
       "        [254, 254, 254],\n",
       "        [254, 254, 254],\n",
       "        ...,\n",
       "        [254, 254, 254],\n",
       "        [254, 254, 254],\n",
       "        [254, 254, 254]],\n",
       "\n",
       "       [[254, 254, 254],\n",
       "        [254, 254, 254],\n",
       "        [254, 254, 254],\n",
       "        ...,\n",
       "        [254, 254, 254],\n",
       "        [254, 254, 254],\n",
       "        [254, 254, 254]],\n",
       "\n",
       "       [[254, 254, 254],\n",
       "        [254, 254, 254],\n",
       "        [254, 254, 254],\n",
       "        ...,\n",
       "        [254, 254, 254],\n",
       "        [254, 254, 254],\n",
       "        [254, 254, 254]],\n",
       "\n",
       "       ...,\n",
       "\n",
       "       [[230, 223, 204],\n",
       "        [230, 223, 204],\n",
       "        [230, 223, 204],\n",
       "        ...,\n",
       "        [232, 222, 204],\n",
       "        [232, 222, 204],\n",
       "        [232, 222, 204]],\n",
       "\n",
       "       [[229, 222, 202],\n",
       "        [229, 222, 202],\n",
       "        [229, 222, 202],\n",
       "        ...,\n",
       "        [231, 222, 202],\n",
       "        [231, 222, 202],\n",
       "        [231, 222, 202]],\n",
       "\n",
       "       [[229, 222, 202],\n",
       "        [229, 222, 202],\n",
       "        [229, 222, 202],\n",
       "        ...,\n",
       "        [231, 222, 202],\n",
       "        [231, 222, 202],\n",
       "        [231, 222, 202]]], dtype=uint8)"
      ]
     },
     "execution_count": 7,
     "metadata": {},
     "output_type": "execute_result"
    }
   ],
   "source": [
    "img = cv2.imread(\"C:/Users/SN112/Downloads/elephant.jpg\")\n",
    "img"
   ]
  },
  {
   "cell_type": "markdown",
   "id": "e44fdc8c",
   "metadata": {},
   "source": [
    "# RGB Conversion\n",
    "\n",
    "\n",
    "\n",
    "\n",
    "\n",
    "\n"
   ]
  },
  {
   "cell_type": "code",
   "execution_count": 9,
   "id": "18b40259",
   "metadata": {},
   "outputs": [],
   "source": [
    "imgrgb=cv2.cvtColor(img,cv2.COLOR_BGR2RGB)"
   ]
  },
  {
   "cell_type": "markdown",
   "id": "8bf7b32c",
   "metadata": {},
   "source": [
    "# Reshape"
   ]
  },
  {
   "cell_type": "code",
   "execution_count": 10,
   "id": "a9c1c8a2",
   "metadata": {},
   "outputs": [
    {
     "data": {
      "text/plain": [
       "array([[254, 254, 254],\n",
       "       [254, 254, 254],\n",
       "       [254, 254, 254],\n",
       "       ...,\n",
       "       [202, 222, 231],\n",
       "       [202, 222, 231],\n",
       "       [202, 222, 231]], dtype=uint8)"
      ]
     },
     "execution_count": 10,
     "metadata": {},
     "output_type": "execute_result"
    }
   ],
   "source": [
    "vec=imgrgb.reshape((-1,3))\n",
    "vec"
   ]
  },
  {
   "cell_type": "markdown",
   "id": "84f6c711",
   "metadata": {},
   "source": [
    "# Float Conversion"
   ]
  },
  {
   "cell_type": "code",
   "execution_count": 11,
   "id": "ea156706",
   "metadata": {},
   "outputs": [
    {
     "data": {
      "text/plain": [
       "array([[254., 254., 254.],\n",
       "       [254., 254., 254.],\n",
       "       [254., 254., 254.],\n",
       "       ...,\n",
       "       [202., 222., 231.],\n",
       "       [202., 222., 231.],\n",
       "       [202., 222., 231.]], dtype=float32)"
      ]
     },
     "execution_count": 11,
     "metadata": {},
     "output_type": "execute_result"
    }
   ],
   "source": [
    "vec = np.float32(vec)\n",
    "vec\n"
   ]
  },
  {
   "cell_type": "markdown",
   "id": "ac2b2960",
   "metadata": {},
   "source": [
    "# Iteration Termination Criteria"
   ]
  },
  {
   "cell_type": "code",
   "execution_count": 16,
   "id": "0fe43251",
   "metadata": {},
   "outputs": [],
   "source": [
    " criteria = (cv2.TERM_CRITERIA_EPS+cv2.TERM_CRITERIA_MAX_ITER,100,1)"
   ]
  },
  {
   "cell_type": "markdown",
   "id": "b32dd573",
   "metadata": {},
   "source": [
    "# Cluster Condition"
   ]
  },
  {
   "cell_type": "code",
   "execution_count": 25,
   "id": "4440b454",
   "metadata": {},
   "outputs": [],
   "source": [
    "K=3\n",
    "attempts=100"
   ]
  },
  {
   "cell_type": "markdown",
   "id": "ec347f2b",
   "metadata": {},
   "source": [
    "# K means Clustering"
   ]
  },
  {
   "cell_type": "code",
   "execution_count": 27,
   "id": "e602897b",
   "metadata": {},
   "outputs": [
    {
     "data": {
      "text/plain": [
       "array([[242.24628 , 245.31639 , 246.19507 ],\n",
       "       [177.07571 , 181.81567 , 183.88904 ],\n",
       "       [ 93.23117 ,  99.733505, 110.95207 ]], dtype=float32)"
      ]
     },
     "execution_count": 27,
     "metadata": {},
     "output_type": "execute_result"
    }
   ],
   "source": [
    "compactness,label,center=cv2.kmeans(vec,K,None,criteria,attempts,cv2.KMEANS_PP_CENTERS)\n",
    "center\n"
   ]
  },
  {
   "cell_type": "markdown",
   "id": "9feda4ca",
   "metadata": {},
   "source": [
    "# Unit conversion"
   ]
  },
  {
   "cell_type": "code",
   "execution_count": 29,
   "id": "52888f8f",
   "metadata": {},
   "outputs": [
    {
     "data": {
      "text/plain": [
       "array([[242, 245, 246],\n",
       "       [177, 181, 183],\n",
       "       [ 93,  99, 110]], dtype=uint8)"
      ]
     },
     "execution_count": 29,
     "metadata": {},
     "output_type": "execute_result"
    }
   ],
   "source": [
    "center=np.uint8(center)\n",
    "center"
   ]
  },
  {
   "cell_type": "markdown",
   "id": "394822b2",
   "metadata": {},
   "source": [
    "# Flattening And Reshape"
   ]
  },
  {
   "cell_type": "code",
   "execution_count": 30,
   "id": "f2e0c002",
   "metadata": {},
   "outputs": [
    {
     "data": {
      "text/plain": [
       "array([[[242, 245, 246],\n",
       "        [242, 245, 246],\n",
       "        [242, 245, 246],\n",
       "        ...,\n",
       "        [242, 245, 246],\n",
       "        [242, 245, 246],\n",
       "        [242, 245, 246]],\n",
       "\n",
       "       [[242, 245, 246],\n",
       "        [242, 245, 246],\n",
       "        [242, 245, 246],\n",
       "        ...,\n",
       "        [242, 245, 246],\n",
       "        [242, 245, 246],\n",
       "        [242, 245, 246]],\n",
       "\n",
       "       [[242, 245, 246],\n",
       "        [242, 245, 246],\n",
       "        [242, 245, 246],\n",
       "        ...,\n",
       "        [242, 245, 246],\n",
       "        [242, 245, 246],\n",
       "        [242, 245, 246]],\n",
       "\n",
       "       ...,\n",
       "\n",
       "       [[242, 245, 246],\n",
       "        [242, 245, 246],\n",
       "        [242, 245, 246],\n",
       "        ...,\n",
       "        [242, 245, 246],\n",
       "        [242, 245, 246],\n",
       "        [242, 245, 246]],\n",
       "\n",
       "       [[242, 245, 246],\n",
       "        [242, 245, 246],\n",
       "        [242, 245, 246],\n",
       "        ...,\n",
       "        [242, 245, 246],\n",
       "        [242, 245, 246],\n",
       "        [242, 245, 246]],\n",
       "\n",
       "       [[242, 245, 246],\n",
       "        [242, 245, 246],\n",
       "        [242, 245, 246],\n",
       "        ...,\n",
       "        [242, 245, 246],\n",
       "        [242, 245, 246],\n",
       "        [242, 245, 246]]], dtype=uint8)"
      ]
     },
     "execution_count": 30,
     "metadata": {},
     "output_type": "execute_result"
    }
   ],
   "source": [
    "res=center[label.flatten()]\n",
    "res_img=res.reshape((imgrgb.shape))\n",
    "res_img"
   ]
  },
  {
   "cell_type": "markdown",
   "id": "1e42022a",
   "metadata": {},
   "source": [
    "# Orginal and Segmented Images"
   ]
  },
  {
   "cell_type": "code",
   "execution_count": 32,
   "id": "5f74ab86",
   "metadata": {},
   "outputs": [],
   "source": [
    "cv2.imshow('original',img)\n",
    "cv2.imshow('segmented',res_img)\n",
    "cv2.waitKey(0)\n",
    "cv2.destroyAllWindows()"
   ]
  },
  {
   "cell_type": "raw",
   "id": "49eead1a",
   "metadata": {},
   "source": [
    "# "
   ]
  },
  {
   "cell_type": "code",
   "execution_count": null,
   "id": "73a0e67c",
   "metadata": {},
   "outputs": [],
   "source": []
  },
  {
   "cell_type": "code",
   "execution_count": null,
   "id": "f2c31dce",
   "metadata": {},
   "outputs": [],
   "source": []
  }
 ],
 "metadata": {
  "kernelspec": {
   "display_name": "Python 3 (ipykernel)",
   "language": "python",
   "name": "python3"
  },
  "language_info": {
   "codemirror_mode": {
    "name": "ipython",
    "version": 3
   },
   "file_extension": ".py",
   "mimetype": "text/x-python",
   "name": "python",
   "nbconvert_exporter": "python",
   "pygments_lexer": "ipython3",
   "version": "3.11.5"
  }
 },
 "nbformat": 4,
 "nbformat_minor": 5
}
