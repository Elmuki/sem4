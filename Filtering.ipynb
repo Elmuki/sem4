{
 "cells": [
  {
   "cell_type": "code",
   "execution_count": 1,
   "id": "f3b4da25",
   "metadata": {},
   "outputs": [],
   "source": [
    "import cv2 as cv\n",
    "import matplotlib.pyplot as plt\n",
    "import numpy as np\n"
   ]
  },
  {
   "cell_type": "markdown",
   "id": "5fc0bb5e",
   "metadata": {},
   "source": [
    "# Filter"
   ]
  },
  {
   "cell_type": "code",
   "execution_count": null,
   "id": "a559d175",
   "metadata": {},
   "outputs": [],
   "source": [
    "img=cv.imread(\"C:/Users/SN112/Downloads/elsa.jpg\")\n",
    "kernel=np.ones((3,3),np.float32)/9\n",
    "filter=cv.filter2D(img,-1,kernel)\n",
    "cv.imshow('image',img) \n",
    "cv.imshow('filter',filter)\n",
    "cv.waitKey(0)\n",
    "cv.destroyAllWindows()\n"
   ]
  },
  {
   "cell_type": "markdown",
   "id": "a7841c4d",
   "metadata": {},
   "source": [
    "# Blur\n"
   ]
  },
  {
   "cell_type": "code",
   "execution_count": null,
   "id": "19043a53",
   "metadata": {
    "scrolled": true
   },
   "outputs": [],
   "source": [
    "img=cv.imread('C:/Users/SN112/Downloads/elsa.jpg')\n",
    "blur=cv.blur(img,(15,15))\n",
    "cv.imshow('image',img)\n",
    "cv.imshow('blur',blur)\n",
    "cv.waitKey()\n",
    "cv.destroyAllWindows()"
   ]
  },
  {
   "cell_type": "markdown",
   "id": "984e8234",
   "metadata": {},
   "source": [
    "# Gaussian Blur"
   ]
  },
  {
   "cell_type": "code",
   "execution_count": null,
   "id": "8b747d60",
   "metadata": {},
   "outputs": [],
   "source": [
    "img=cv.imread('C:/Users/SN112/Downloads/elsa.jpg')\n",
    "Gblur=cv.GaussianBlur(img,(55,55),0)\n",
    "cv.imshow('image',img)\n",
    "cv.imshow('Gaussian',Gblur)\n",
    "cv.waitKey()\n",
    "cv.destroyAllWindows()"
   ]
  },
  {
   "cell_type": "code",
   "execution_count": null,
   "id": "17c79c23",
   "metadata": {},
   "outputs": [],
   "source": [
    "img=cv.imread('C:/Users/SN112/Downloads/temple.jpg')\n",
    "print(img.shape)\n",
    "Gblur=cv.GaussianBlur(img,(55,55),0)\n",
    "cv.imshow('image',img)\n",
    "cv.imshow('Gaussian',Gblur)\n",
    "cv.waitKey(0)\n",
    "cv.destroyAllWindows()"
   ]
  },
  {
   "cell_type": "markdown",
   "id": "fd8cc448",
   "metadata": {},
   "source": [
    "# Bilateral Filter"
   ]
  },
  {
   "cell_type": "code",
   "execution_count": null,
   "id": "961d22e6",
   "metadata": {},
   "outputs": [],
   "source": [
    "img=cv.imread('C:/Users/SN112/Downloads/temple.jpg')\n",
    "print(img.shape)\n",
    "bfilter=cv.bilateralFilter(img,7,90,90)\n",
    "cv.imshow('image',img)\n",
    "cv.imshow('bilateralFilter',bfilter)\n",
    "cv.waitKey(0)\n",
    "cv.destroyAllWindows()"
   ]
  },
  {
   "cell_type": "markdown",
   "id": "23660e9c",
   "metadata": {},
   "source": [
    "# Median Filters"
   ]
  },
  {
   "cell_type": "code",
   "execution_count": null,
   "id": "9e59ca3b",
   "metadata": {},
   "outputs": [],
   "source": [
    "img=cv.imread('C:/Users/SN112/Downloads/sn.jpg')\n",
    "mfilter=cv.medianBlur(img,5)\n",
    "cv.imshow('imag',img)\n",
    "cv.imshow('medianBlur',mfilter)\n",
    "cv.waitKey(0)\n",
    "cv.destroyAllWindows()"
   ]
  },
  {
   "cell_type": "code",
   "execution_count": null,
   "id": "1b5ad22d",
   "metadata": {},
   "outputs": [],
   "source": [
    "titles=['img','2D','''blur','gaussian','bilateral','median']\n",
    "images=[img,filter,blur,gblur,bfilter,medianFilter]\n",
    "cv.waitKey(0)\n",
    "cv.destroyAllWindows()"
   ]
  },
  {
   "cell_type": "markdown",
   "id": "055a74dd",
   "metadata": {},
   "source": [
    "# LAPLASIAN FILTER"
   ]
  },
  {
   "cell_type": "code",
   "execution_count": 15,
   "id": "ea75524d",
   "metadata": {},
   "outputs": [],
   "source": [
    "img = cv.imread('C:/Users/SN112/Downloads/123.jpeg',0)\n",
    "lap = cv.Laplacian(img,cv.CV_64F,ksize=3)\n",
    "lap = np.uint8(np.absolute(lap))\n",
    "cv.imshow('image',img)\n",
    "cv.imshow('laplacian',lap)\n",
    "cv.waitKey(0)\n",
    "cv.destroyAllWindows()\n",
    "\n"
   ]
  },
  {
   "cell_type": "markdown",
   "id": "4690394f",
   "metadata": {},
   "source": [
    "# sobel filter"
   ]
  },
  {
   "cell_type": "code",
   "execution_count": 24,
   "id": "8f9e57a9",
   "metadata": {},
   "outputs": [
    {
     "name": "stdout",
     "output_type": "stream",
     "text": [
      "[[0 0 0 ... 0 0 0]\n",
      " [0 0 0 ... 0 0 0]\n",
      " [0 0 0 ... 0 0 0]\n",
      " ...\n",
      " [0 0 0 ... 0 0 0]\n",
      " [0 0 0 ... 0 0 0]\n",
      " [0 0 0 ... 0 0 0]]\n"
     ]
    }
   ],
   "source": [
    "img=cv.imread('C:/Users/SN112/Downloads/ghost.jfif',0)\n",
    "soblex=cv.Sobel(img,cv.CV_64F,1,0,ksize=3)\n",
    "soblex=np.uint8(np.absolute(soblex))\n",
    "print(soblex)\n",
    "cv.imshow('image',img)\n",
    "cv.imshow('soblex',soblex)\n",
    "cv.waitKey(0)\n",
    "cv.destroyAllWindows()\n",
    "\n"
   ]
  },
  {
   "cell_type": "code",
   "execution_count": 26,
   "id": "1eb05433",
   "metadata": {},
   "outputs": [
    {
     "name": "stdout",
     "output_type": "stream",
     "text": [
      "[[0 0 0 ... 0 0 0]\n",
      " [0 0 0 ... 0 0 0]\n",
      " [0 0 0 ... 0 0 0]\n",
      " ...\n",
      " [0 0 0 ... 0 0 0]\n",
      " [0 0 0 ... 0 0 0]\n",
      " [0 0 0 ... 0 0 0]]\n"
     ]
    }
   ],
   "source": [
    "sobley=cv.Sobel(img,cv.CV_64F,0,1,ksize=3)\n",
    "sobley=np.uint8(np.absolute(sobley))\n",
    "print(soblex)\n",
    "cv.imshow('image',img)\n",
    "cv.imshow('sobley',sobley)\n",
    "cv.waitKey(0)\n",
    "cv.destroyAllWindows()\n"
   ]
  },
  {
   "cell_type": "code",
   "execution_count": null,
   "id": "a927a8ef",
   "metadata": {},
   "outputs": [],
   "source": []
  },
  {
   "cell_type": "code",
   "execution_count": null,
   "id": "9de487e3",
   "metadata": {},
   "outputs": [],
   "source": []
  }
 ],
 "metadata": {
  "kernelspec": {
   "display_name": "Python 3 (ipykernel)",
   "language": "python",
   "name": "python3"
  },
  "language_info": {
   "codemirror_mode": {
    "name": "ipython",
    "version": 3
   },
   "file_extension": ".py",
   "mimetype": "text/x-python",
   "name": "python",
   "nbconvert_exporter": "python",
   "pygments_lexer": "ipython3",
   "version": "3.11.5"
  }
 },
 "nbformat": 4,
 "nbformat_minor": 5
}
