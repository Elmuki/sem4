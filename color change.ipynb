{
 "cells": [
  {
   "cell_type": "code",
   "execution_count": 1,
   "id": "63c73ce7",
   "metadata": {},
   "outputs": [],
   "source": [
    "import cv2\n",
    "import numpy as np\n"
   ]
  },
  {
   "cell_type": "code",
   "execution_count": 2,
   "id": "90fcaf19",
   "metadata": {},
   "outputs": [],
   "source": [
    "im1=cv2.imread(\"C:/Users/SN112/Pictures/Saved Pictures/4.jpg\")\n"
   ]
  },
  {
   "cell_type": "code",
   "execution_count": 3,
   "id": "f89d881d",
   "metadata": {},
   "outputs": [
    {
     "name": "stdout",
     "output_type": "stream",
     "text": [
      "(450, 600, 3)\n"
     ]
    }
   ],
   "source": [
    "print(im1.shape)"
   ]
  },
  {
   "cell_type": "code",
   "execution_count": 4,
   "id": "7a0dd4e5",
   "metadata": {},
   "outputs": [
    {
     "name": "stdout",
     "output_type": "stream",
     "text": [
      "810000\n"
     ]
    }
   ],
   "source": [
    "print(im1.size)"
   ]
  },
  {
   "cell_type": "code",
   "execution_count": 5,
   "id": "ef88867d",
   "metadata": {},
   "outputs": [],
   "source": [
    "im1_resized=cv2.resize(im1,(250,250))"
   ]
  },
  {
   "cell_type": "code",
   "execution_count": 6,
   "id": "66c87cc5",
   "metadata": {},
   "outputs": [
    {
     "name": "stdout",
     "output_type": "stream",
     "text": [
      "(250, 250, 3)\n"
     ]
    }
   ],
   "source": [
    "print(im1_resized.shape)"
   ]
  },
  {
   "cell_type": "code",
   "execution_count": null,
   "id": "9a42a279",
   "metadata": {},
   "outputs": [],
   "source": [
    "cv2.imshow(\"Img1\",im1)\n",
    "cv2.imshow(\"Img2\",im1_resized)\n",
    "cv2.waitKey(0)\n",
    "cv2.destroyAllWindows()\n"
   ]
  },
  {
   "cell_type": "markdown",
   "id": "dc08d8da",
   "metadata": {},
   "source": [
    "# COLOR SPACE CHANGING"
   ]
  },
  {
   "cell_type": "code",
   "execution_count": 7,
   "id": "04e9bfb9",
   "metadata": {},
   "outputs": [],
   "source": [
    "colors_avl=[i for i in dir(cv2) if i.startswith(\"COLOR_BGR\")]"
   ]
  },
  {
   "cell_type": "code",
   "execution_count": 8,
   "id": "9562b65f",
   "metadata": {},
   "outputs": [
    {
     "data": {
      "text/plain": [
       "['COLOR_BGR2BGR555',\n",
       " 'COLOR_BGR2BGR565',\n",
       " 'COLOR_BGR2BGRA',\n",
       " 'COLOR_BGR2GRAY',\n",
       " 'COLOR_BGR2HLS',\n",
       " 'COLOR_BGR2HLS_FULL',\n",
       " 'COLOR_BGR2HSV',\n",
       " 'COLOR_BGR2HSV_FULL',\n",
       " 'COLOR_BGR2LAB',\n",
       " 'COLOR_BGR2LUV',\n",
       " 'COLOR_BGR2Lab',\n",
       " 'COLOR_BGR2Luv',\n",
       " 'COLOR_BGR2RGB',\n",
       " 'COLOR_BGR2RGBA',\n",
       " 'COLOR_BGR2XYZ',\n",
       " 'COLOR_BGR2YCR_CB',\n",
       " 'COLOR_BGR2YCrCb',\n",
       " 'COLOR_BGR2YUV',\n",
       " 'COLOR_BGR2YUV_I420',\n",
       " 'COLOR_BGR2YUV_IYUV',\n",
       " 'COLOR_BGR2YUV_UYNV',\n",
       " 'COLOR_BGR2YUV_UYVY',\n",
       " 'COLOR_BGR2YUV_Y422',\n",
       " 'COLOR_BGR2YUV_YUNV',\n",
       " 'COLOR_BGR2YUV_YUY2',\n",
       " 'COLOR_BGR2YUV_YUYV',\n",
       " 'COLOR_BGR2YUV_YV12',\n",
       " 'COLOR_BGR2YUV_YVYU',\n",
       " 'COLOR_BGR5552BGR',\n",
       " 'COLOR_BGR5552BGRA',\n",
       " 'COLOR_BGR5552GRAY',\n",
       " 'COLOR_BGR5552RGB',\n",
       " 'COLOR_BGR5552RGBA',\n",
       " 'COLOR_BGR5652BGR',\n",
       " 'COLOR_BGR5652BGRA',\n",
       " 'COLOR_BGR5652GRAY',\n",
       " 'COLOR_BGR5652RGB',\n",
       " 'COLOR_BGR5652RGBA',\n",
       " 'COLOR_BGRA2BGR',\n",
       " 'COLOR_BGRA2BGR555',\n",
       " 'COLOR_BGRA2BGR565',\n",
       " 'COLOR_BGRA2GRAY',\n",
       " 'COLOR_BGRA2RGB',\n",
       " 'COLOR_BGRA2RGBA',\n",
       " 'COLOR_BGRA2YUV_I420',\n",
       " 'COLOR_BGRA2YUV_IYUV',\n",
       " 'COLOR_BGRA2YUV_UYNV',\n",
       " 'COLOR_BGRA2YUV_UYVY',\n",
       " 'COLOR_BGRA2YUV_Y422',\n",
       " 'COLOR_BGRA2YUV_YUNV',\n",
       " 'COLOR_BGRA2YUV_YUY2',\n",
       " 'COLOR_BGRA2YUV_YUYV',\n",
       " 'COLOR_BGRA2YUV_YV12',\n",
       " 'COLOR_BGRA2YUV_YVYU']"
      ]
     },
     "execution_count": 8,
     "metadata": {},
     "output_type": "execute_result"
    }
   ],
   "source": [
    "\n",
    "colors_avl"
   ]
  },
  {
   "cell_type": "code",
   "execution_count": 10,
   "id": "09a16403",
   "metadata": {},
   "outputs": [],
   "source": [
    "im3=cv2.cvtColor(im1,cv2.COLOR_BGR2HSV)"
   ]
  },
  {
   "cell_type": "code",
   "execution_count": null,
   "id": "f6ea9bef",
   "metadata": {},
   "outputs": [],
   "source": [
    "cv2.imshow(\"Img1\",im1)\n",
    "cv2.imshow(\"Img2\",im3)\n",
    "cv2.waitKey(0)\n",
    "cv2.destroyALLWindows()"
   ]
  },
  {
   "cell_type": "code",
   "execution_count": null,
   "id": "d6d722ef",
   "metadata": {},
   "outputs": [],
   "source": []
  }
 ],
 "metadata": {
  "kernelspec": {
   "display_name": "Python 3 (ipykernel)",
   "language": "python",
   "name": "python3"
  },
  "language_info": {
   "codemirror_mode": {
    "name": "ipython",
    "version": 3
   },
   "file_extension": ".py",
   "mimetype": "text/x-python",
   "name": "python",
   "nbconvert_exporter": "python",
   "pygments_lexer": "ipython3",
   "version": "3.11.5"
  }
 },
 "nbformat": 4,
 "nbformat_minor": 5
}
