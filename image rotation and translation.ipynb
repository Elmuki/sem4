{
 "cells": [
  {
   "cell_type": "code",
   "execution_count": 3,
   "id": "443e821d",
   "metadata": {},
   "outputs": [],
   "source": [
    "import cv2\n",
    "import numpy as np"
   ]
  },
  {
   "cell_type": "code",
   "execution_count": 4,
   "id": "be22d2de",
   "metadata": {},
   "outputs": [],
   "source": [
    "im1=cv2.imread(\"C:/Users/SN112/Downloads/yoyo.jfif\")"
   ]
  },
  {
   "cell_type": "code",
   "execution_count": 5,
   "id": "d2a0f363",
   "metadata": {},
   "outputs": [
    {
     "data": {
      "text/plain": [
       "array([[[ 54, 229, 255],\n",
       "        [ 54, 229, 255],\n",
       "        [ 54, 229, 255],\n",
       "        ...,\n",
       "        [ 54, 229, 255],\n",
       "        [ 54, 229, 255],\n",
       "        [ 54, 229, 255]],\n",
       "\n",
       "       [[ 54, 229, 255],\n",
       "        [ 54, 229, 255],\n",
       "        [ 54, 229, 255],\n",
       "        ...,\n",
       "        [ 54, 229, 255],\n",
       "        [ 54, 229, 255],\n",
       "        [ 54, 229, 255]],\n",
       "\n",
       "       [[ 54, 229, 255],\n",
       "        [ 54, 229, 255],\n",
       "        [ 54, 229, 255],\n",
       "        ...,\n",
       "        [ 54, 229, 255],\n",
       "        [ 54, 229, 255],\n",
       "        [ 54, 229, 255]],\n",
       "\n",
       "       ...,\n",
       "\n",
       "       [[ 53, 228, 255],\n",
       "        [ 53, 228, 255],\n",
       "        [ 53, 228, 255],\n",
       "        ...,\n",
       "        [ 53, 228, 255],\n",
       "        [ 53, 228, 255],\n",
       "        [ 53, 228, 255]],\n",
       "\n",
       "       [[ 53, 228, 255],\n",
       "        [ 53, 228, 255],\n",
       "        [ 53, 228, 255],\n",
       "        ...,\n",
       "        [ 53, 228, 255],\n",
       "        [ 53, 228, 255],\n",
       "        [ 53, 228, 255]],\n",
       "\n",
       "       [[ 53, 228, 255],\n",
       "        [ 53, 228, 255],\n",
       "        [ 53, 228, 255],\n",
       "        ...,\n",
       "        [ 53, 228, 255],\n",
       "        [ 53, 228, 255],\n",
       "        [ 53, 228, 255]]], dtype=uint8)"
      ]
     },
     "execution_count": 5,
     "metadata": {},
     "output_type": "execute_result"
    }
   ],
   "source": [
    "im1"
   ]
  },
  {
   "cell_type": "code",
   "execution_count": 6,
   "id": "663b2fa5",
   "metadata": {},
   "outputs": [
    {
     "name": "stdout",
     "output_type": "stream",
     "text": [
      "(736, 736, 3)\n"
     ]
    }
   ],
   "source": [
    "shp=im1.shape\n",
    "print(shp)"
   ]
  },
  {
   "cell_type": "code",
   "execution_count": 7,
   "id": "4225b3ca",
   "metadata": {},
   "outputs": [
    {
     "name": "stdout",
     "output_type": "stream",
     "text": [
      "736\n",
      "736\n"
     ]
    }
   ],
   "source": [
    "height,width=im1.shape[:2]\n",
    "print(height)\n",
    "print(width)"
   ]
  },
  {
   "cell_type": "code",
   "execution_count": 8,
   "id": "ee782987",
   "metadata": {},
   "outputs": [
    {
     "data": {
      "text/plain": [
       "(368.0, 368.0)"
      ]
     },
     "execution_count": 8,
     "metadata": {},
     "output_type": "execute_result"
    }
   ],
   "source": [
    "cent=(height/2,width/2)\n",
    "cent"
   ]
  },
  {
   "cell_type": "code",
   "execution_count": 9,
   "id": "710a82ce",
   "metadata": {},
   "outputs": [],
   "source": [
    "rotation_matrix=cv2.getRotationMatrix2D(center=cent,angle=25,scale=0.5)"
   ]
  },
  {
   "cell_type": "code",
   "execution_count": 10,
   "id": "cdfce73c",
   "metadata": {},
   "outputs": [
    {
     "name": "stdout",
     "output_type": "stream",
     "text": [
      "[[ 4.53153894e-01  2.11309131e-01  1.23477607e+02]\n",
      " [-2.11309131e-01  4.53153894e-01  2.79001127e+02]]\n"
     ]
    }
   ],
   "source": [
    "print(rotation_matrix)"
   ]
  },
  {
   "cell_type": "code",
   "execution_count": 11,
   "id": "d364aa3d",
   "metadata": {},
   "outputs": [],
   "source": [
    "rotated_im =cv2.warpAffine(src=im1,M=rotation_matrix ,dsize=(width,height)) \n"
   ]
  },
  {
   "cell_type": "code",
   "execution_count": 12,
   "id": "fe2a472d",
   "metadata": {},
   "outputs": [],
   "source": [
    "cv2.imshow('original image',im1)\n",
    "cv2.waitKey(0)\n",
    "cv2.imshow('rotated image',rotated_im)\n",
    "cv2.waitKey(0)\n",
    "cv2.destroyAllWindows()\n"
   ]
  },
  {
   "cell_type": "markdown",
   "id": "d03f68e9",
   "metadata": {},
   "source": [
    "# Translation Matrix"
   ]
  },
  {
   "cell_type": "code",
   "execution_count": 13,
   "id": "78b867ce",
   "metadata": {},
   "outputs": [],
   "source": [
    "tx,ty=width/2,height/2"
   ]
  },
  {
   "cell_type": "code",
   "execution_count": 14,
   "id": "53f58025",
   "metadata": {},
   "outputs": [],
   "source": [
    "Translation_matrix=np.array([[1,0,tx],[0,1,ty]])"
   ]
  },
  {
   "cell_type": "code",
   "execution_count": 15,
   "id": "cc1c8a43",
   "metadata": {
    "scrolled": true
   },
   "outputs": [
    {
     "data": {
      "text/plain": [
       "array([[  1.,   0., 368.],\n",
       "       [  0.,   1., 368.]])"
      ]
     },
     "execution_count": 15,
     "metadata": {},
     "output_type": "execute_result"
    }
   ],
   "source": [
    "Translation_matrix"
   ]
  },
  {
   "cell_type": "code",
   "execution_count": 16,
   "id": "c6589fa3",
   "metadata": {},
   "outputs": [],
   "source": [
    "Trans_im=cv2.warpAffine(src=im1,M=Translation_matrix,dsize=(width,height))"
   ]
  },
  {
   "cell_type": "code",
   "execution_count": 17,
   "id": "3a5a6b65",
   "metadata": {},
   "outputs": [],
   "source": [
    "cv2.imshow('original image',im1)\n",
    "cv2.waitKey(0)\n",
    "cv2.imshow('Transimage',Trans_im)\n",
    "cv2.waitKey(0)\n",
    "cv2.destroyAllWindows()"
   ]
  },
  {
   "cell_type": "markdown",
   "id": "88bda4fa",
   "metadata": {},
   "source": []
  },
  {
   "cell_type": "markdown",
   "id": "be7fad7a",
   "metadata": {},
   "source": []
  }
 ],
 "metadata": {
  "kernelspec": {
   "display_name": "Python 3 (ipykernel)",
   "language": "python",
   "name": "python3"
  },
  "language_info": {
   "codemirror_mode": {
    "name": "ipython",
    "version": 3
   },
   "file_extension": ".py",
   "mimetype": "text/x-python",
   "name": "python",
   "nbconvert_exporter": "python",
   "pygments_lexer": "ipython3",
   "version": "3.11.5"
  }
 },
 "nbformat": 4,
 "nbformat_minor": 5
}
