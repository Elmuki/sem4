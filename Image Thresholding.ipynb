{
 "cells": [
  {
   "cell_type": "code",
   "execution_count": 1,
   "id": "c756f77f",
   "metadata": {},
   "outputs": [],
   "source": [
    "import cv2\n",
    "import numpy as np"
   ]
  },
  {
   "cell_type": "code",
   "execution_count": 2,
   "id": "ce4094e2",
   "metadata": {},
   "outputs": [],
   "source": [
    "im1=cv2.imread(\"C:/Users/SN112/Documents/coco.jpg\",0)"
   ]
  },
  {
   "cell_type": "code",
   "execution_count": 3,
   "id": "0d137066",
   "metadata": {},
   "outputs": [],
   "source": [
    "cv2.imshow(\"im1\",im1)\n",
    "cv2.waitKey(0)\n",
    "cv2.destroyAllWindows()"
   ]
  },
  {
   "cell_type": "code",
   "execution_count": 4,
   "id": "c4883f1c",
   "metadata": {},
   "outputs": [
    {
     "data": {
      "text/plain": [
       "array([[164, 164, 164, ..., 164, 164, 164],\n",
       "       [164, 164, 164, ..., 164, 164, 164],\n",
       "       [164, 164, 164, ..., 164, 164, 164],\n",
       "       ...,\n",
       "       [164, 164, 164, ..., 164, 164, 164],\n",
       "       [164, 164, 164, ..., 164, 164, 164],\n",
       "       [164, 164, 164, ..., 164, 164, 164]], dtype=uint8)"
      ]
     },
     "execution_count": 4,
     "metadata": {},
     "output_type": "execute_result"
    }
   ],
   "source": [
    "im1"
   ]
  },
  {
   "cell_type": "code",
   "execution_count": 5,
   "id": "81df62f7",
   "metadata": {},
   "outputs": [],
   "source": [
    "ret,thres=cv2.threshold(im1,79,100,cv2.THRESH_BINARY)"
   ]
  },
  {
   "cell_type": "code",
   "execution_count": 6,
   "id": "6544fbda",
   "metadata": {},
   "outputs": [
    {
     "data": {
      "text/plain": [
       "array([[100, 100, 100, ..., 100, 100, 100],\n",
       "       [100, 100, 100, ..., 100, 100, 100],\n",
       "       [100, 100, 100, ..., 100, 100, 100],\n",
       "       ...,\n",
       "       [100, 100, 100, ..., 100, 100, 100],\n",
       "       [100, 100, 100, ..., 100, 100, 100],\n",
       "       [100, 100, 100, ..., 100, 100, 100]], dtype=uint8)"
      ]
     },
     "execution_count": 6,
     "metadata": {},
     "output_type": "execute_result"
    }
   ],
   "source": [
    "thres"
   ]
  },
  {
   "cell_type": "code",
   "execution_count": 7,
   "id": "82e34f1f",
   "metadata": {},
   "outputs": [],
   "source": [
    "cv2.imshow(\"thres\",thres)\n",
    "cv2.waitKey(0)\n",
    "cv2.destroyAllWindows()"
   ]
  },
  {
   "cell_type": "markdown",
   "id": "f1d409b0",
   "metadata": {},
   "source": [
    "syntax:\n",
    "    ret,varname=cv2.threshold(inputimage,threshold limit,replace value,<threshold types>)"
   ]
  },
  {
   "cell_type": "code",
   "execution_count": 8,
   "id": "5b5bfaef",
   "metadata": {},
   "outputs": [],
   "source": [
    "ret,thres1=cv2.threshold(im1,79,100,cv2.THRESH_BINARY)\n",
    "ret,thres2=cv2.threshold(im1,79,100,cv2.THRESH_BINARY_INV)\n",
    "ret,thres3=cv2.threshold(im1,79,100,cv2.THRESH_TRUNC)\n",
    "ret,thres4=cv2.threshold(im1,79,100,cv2.THRESH_TOZERO)\n",
    "ret,thres5=cv2.threshold(im1,79,100,cv2.THRESH_TOZERO_INV)\n"
   ]
  },
  {
   "cell_type": "code",
   "execution_count": 9,
   "id": "30a096cb",
   "metadata": {},
   "outputs": [],
   "source": [
    "cv2.imshow(\"thres_1\",thres1)\n",
    "cv2.waitKey(0)\n",
    "cv2.imshow(\"thres_2\",thres2)\n",
    "cv2.waitKey(0)\n",
    "cv2.imshow(\"thres_3\",thres3)\n",
    "cv2.waitKey(0)\n",
    "cv2.imshow(\"thres_4\",thres4)\n",
    "cv2.waitKey(0)\n",
    "cv2.imshow(\"thres_5\",thres5)\n",
    "cv2.waitKey(0)\n",
    "cv2.destroyAllWindows()\n"
   ]
  },
  {
   "cell_type": "code",
   "execution_count": null,
   "id": "dea7eda9",
   "metadata": {},
   "outputs": [],
   "source": [
    "\n",
    "\n"
   ]
  }
 ],
 "metadata": {
  "kernelspec": {
   "display_name": "Python 3 (ipykernel)",
   "language": "python",
   "name": "python3"
  },
  "language_info": {
   "codemirror_mode": {
    "name": "ipython",
    "version": 3
   },
   "file_extension": ".py",
   "mimetype": "text/x-python",
   "name": "python",
   "nbconvert_exporter": "python",
   "pygments_lexer": "ipython3",
   "version": "3.11.5"
  }
 },
 "nbformat": 4,
 "nbformat_minor": 5
}
