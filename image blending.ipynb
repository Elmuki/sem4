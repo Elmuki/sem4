{
 "cells": [
  {
   "cell_type": "code",
   "execution_count": 4,
   "id": "65fa8d05",
   "metadata": {},
   "outputs": [],
   "source": [
    "import cv2\n",
    "import numpy as np"
   ]
  },
  {
   "cell_type": "code",
   "execution_count": 5,
   "id": "cb1b13a2",
   "metadata": {},
   "outputs": [],
   "source": [
    "im1=cv2.imread(\"C:/Users/SN112/Downloads/e1.jpg\")\n",
    "im2=cv2.imread(\"C:/Users/SN112/Downloads/e2.jpg\")  \n",
    "im3=cv2.resize(im1,(300,300))\n",
    "im4=cv2.resize(im2,(300,300))\n",
    "               "
   ]
  },
  {
   "cell_type": "code",
   "execution_count": null,
   "id": "c4b809d0",
   "metadata": {},
   "outputs": [],
   "source": [
    "cv2.imshow(\"im1\",im3)\n",
    "cv2.imshow(\"im2\",im4)\n",
    "cv2.waitKey(0)\n",
    "cv2.destroyAllWindows()"
   ]
  },
  {
   "cell_type": "code",
   "execution_count": 6,
   "id": "e9b92577",
   "metadata": {},
   "outputs": [],
   "source": [
    "im_blend=cv2.addWeighted(im3,0.1,im4,0.3,0)"
   ]
  },
  {
   "cell_type": "code",
   "execution_count": null,
   "id": "35cae880",
   "metadata": {},
   "outputs": [],
   "source": [
    "\n",
    "cv2.imshow(\"Blended\",im_blend)\n",
    "cv2.waitKey(0)\n",
    "cv2.destroyAllWindows()"
   ]
  },
  {
   "cell_type": "code",
   "execution_count": 7,
   "id": "4826c65b",
   "metadata": {},
   "outputs": [],
   "source": [
    "#image subtraction\n",
    "imsub=cv2.subtract(im3,im4)"
   ]
  },
  {
   "cell_type": "code",
   "execution_count": 8,
   "id": "03b25d67",
   "metadata": {},
   "outputs": [],
   "source": [
    "cv2.imshow(\"sub\",imsub)\n",
    "cv2.waitKey(0)\n",
    "cv2.destroyAllWindows()\n"
   ]
  },
  {
   "cell_type": "code",
   "execution_count": 14,
   "id": "b14f9ab9",
   "metadata": {},
   "outputs": [],
   "source": [
    "AND=cv2.bitwise_and(im3,im4)\n",
    "OR=cv2.bitwise_or(im3,im4)\n",
    "NOT=cv2.bitwise_not(im3,im4)\n",
    "XOR=cv2.bitwise_xor(im3,im4)"
   ]
  },
  {
   "cell_type": "code",
   "execution_count": 23,
   "id": "da547155",
   "metadata": {},
   "outputs": [
    {
     "data": {
      "text/plain": [
       "array([[[0, 0, 0],\n",
       "        [0, 0, 0],\n",
       "        [0, 0, 0],\n",
       "        ...,\n",
       "        [0, 0, 0],\n",
       "        [0, 0, 0],\n",
       "        [0, 0, 0]],\n",
       "\n",
       "       [[0, 0, 0],\n",
       "        [0, 0, 0],\n",
       "        [0, 0, 0],\n",
       "        ...,\n",
       "        [0, 0, 0],\n",
       "        [0, 0, 0],\n",
       "        [0, 0, 0]],\n",
       "\n",
       "       [[0, 0, 0],\n",
       "        [0, 0, 0],\n",
       "        [0, 0, 0],\n",
       "        ...,\n",
       "        [0, 0, 0],\n",
       "        [0, 0, 0],\n",
       "        [0, 0, 0]],\n",
       "\n",
       "       ...,\n",
       "\n",
       "       [[0, 0, 0],\n",
       "        [0, 0, 0],\n",
       "        [0, 0, 0],\n",
       "        ...,\n",
       "        [0, 0, 0],\n",
       "        [0, 0, 0],\n",
       "        [0, 0, 0]],\n",
       "\n",
       "       [[0, 0, 0],\n",
       "        [0, 0, 0],\n",
       "        [0, 0, 0],\n",
       "        ...,\n",
       "        [0, 0, 0],\n",
       "        [0, 0, 0],\n",
       "        [0, 0, 0]],\n",
       "\n",
       "       [[0, 0, 0],\n",
       "        [0, 0, 0],\n",
       "        [0, 0, 0],\n",
       "        ...,\n",
       "        [0, 0, 0],\n",
       "        [0, 0, 0],\n",
       "        [0, 0, 0]]], dtype=uint8)"
      ]
     },
     "execution_count": 23,
     "metadata": {},
     "output_type": "execute_result"
    }
   ],
   "source": [
    "AND"
   ]
  },
  {
   "cell_type": "code",
   "execution_count": 25,
   "id": "bcb42637",
   "metadata": {},
   "outputs": [],
   "source": [
    "cv2.imshow(\"b_and\",AND)\n",
    "\n",
    "cv2.imshow(\"b_or\",OR)\n",
    "\n",
    "cv2.imshow(\"b_not\",NOT)\n",
    "\n",
    "cv2.imshow(\"b_xor\",XOR)\n",
    "cv2.waitKey(0)\n",
    "cv2.destroyAllWindows()\n"
   ]
  },
  {
   "cell_type": "code",
   "execution_count": null,
   "id": "324d1c64",
   "metadata": {},
   "outputs": [],
   "source": []
  }
 ],
 "metadata": {
  "kernelspec": {
   "display_name": "Python 3 (ipykernel)",
   "language": "python",
   "name": "python3"
  },
  "language_info": {
   "codemirror_mode": {
    "name": "ipython",
    "version": 3
   },
   "file_extension": ".py",
   "mimetype": "text/x-python",
   "name": "python",
   "nbconvert_exporter": "python",
   "pygments_lexer": "ipython3",
   "version": "3.11.5"
  }
 },
 "nbformat": 4,
 "nbformat_minor": 5
}
