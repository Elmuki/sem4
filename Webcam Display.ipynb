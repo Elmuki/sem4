{
 "cells": [
  {
   "cell_type": "code",
   "execution_count": 16,
   "id": "a5c2ea8a",
   "metadata": {},
   "outputs": [],
   "source": [
    "import cv2\n",
    "import numpy as np"
   ]
  },
  {
   "cell_type": "code",
   "execution_count": 19,
   "id": "9c10db72",
   "metadata": {},
   "outputs": [],
   "source": [
    "view= cv2.VideoCapture(\"C://Users//SN112//Downloads//abc.mp4\")"
   ]
  },
  {
   "cell_type": "code",
   "execution_count": 18,
   "id": "2e5c6aa4",
   "metadata": {},
   "outputs": [
    {
     "ename": "error",
     "evalue": "OpenCV(4.9.0) D:\\a\\opencv-python\\opencv-python\\opencv\\modules\\imgproc\\src\\color.cpp:196: error: (-215:Assertion failed) !_src.empty() in function 'cv::cvtColor'\n",
     "output_type": "error",
     "traceback": [
      "\u001b[1;31m---------------------------------------------------------------------------\u001b[0m",
      "\u001b[1;31merror\u001b[0m                                     Traceback (most recent call last)",
      "Cell \u001b[1;32mIn[18], line 3\u001b[0m\n\u001b[0;32m      1\u001b[0m \u001b[38;5;28;01mwhile\u001b[39;00m(\u001b[38;5;28;01mTrue\u001b[39;00m):\n\u001b[0;32m      2\u001b[0m     ret,frame\u001b[38;5;241m=\u001b[39mvid\u001b[38;5;241m.\u001b[39mread()\n\u001b[1;32m----> 3\u001b[0m     gray\u001b[38;5;241m=\u001b[39mcv2\u001b[38;5;241m.\u001b[39mcvtColor(frame,cv2\u001b[38;5;241m.\u001b[39mCOLOR_BGR2GRAY)\n\u001b[0;32m      4\u001b[0m     cv2\u001b[38;5;241m.\u001b[39mimshow(\u001b[38;5;124m'\u001b[39m\u001b[38;5;124morgin\u001b[39m\u001b[38;5;124m'\u001b[39m,frame)\n\u001b[0;32m      5\u001b[0m     cv2\u001b[38;5;241m.\u001b[39mimshow(\u001b[38;5;124m'\u001b[39m\u001b[38;5;124mgray\u001b[39m\u001b[38;5;124m'\u001b[39m,gray)\n",
      "\u001b[1;31merror\u001b[0m: OpenCV(4.9.0) D:\\a\\opencv-python\\opencv-python\\opencv\\modules\\imgproc\\src\\color.cpp:196: error: (-215:Assertion failed) !_src.empty() in function 'cv::cvtColor'\n"
     ]
    }
   ],
   "source": [
    "while(True):\n",
    "    ret,frame=vid.read()\n",
    "    gray=cv2.cvtColor(frame,cv2.COLOR_BGR2GRAY)\n",
    "    cv2.imshow('orgin',frame)\n",
    "    cv2.imshow('gray',gray)\n",
    "    if cv2.waitKey(1)&0xFF==ord('q'):\n",
    "        break       \n",
    "view.release()\n",
    "cv2.destroyAllWindows()"
   ]
  },
  {
   "cell_type": "markdown",
   "id": "248b632d",
   "metadata": {},
   "source": [
    "# Video Saving"
   ]
  },
  {
   "cell_type": "markdown",
   "id": "6ab0797f",
   "metadata": {},
   "source": [
    "# Web Capture"
   ]
  },
  {
   "cell_type": "code",
   "execution_count": 20,
   "id": "771d9fbf",
   "metadata": {},
   "outputs": [],
   "source": [
    "fourcc=cv2.VideoWriter_fourcc(*'mp4v')"
   ]
  },
  {
   "cell_type": "code",
   "execution_count": 21,
   "id": "d6dcabb3",
   "metadata": {},
   "outputs": [],
   "source": [
    "wrt=cv2.VideoWriter('cartoon.mp4',fourcc,50.0,(640,480))"
   ]
  },
  {
   "cell_type": "code",
   "execution_count": 22,
   "id": "318896b5",
   "metadata": {},
   "outputs": [],
   "source": [
    "while(view.isOpened()):\n",
    "    ret,frame=view.read()\n",
    "    wrt.write(frame)\n",
    "    cv2.imshow('frame',frame)\n",
    "    if cv2.waitKey(25)&0xFF==ord('e'):\n",
    "        break\n",
    "        \n",
    "view.release()\n",
    "cv2.destroyAllWindows()"
   ]
  },
  {
   "cell_type": "code",
   "execution_count": null,
   "id": "768900b8",
   "metadata": {},
   "outputs": [],
   "source": []
  }
 ],
 "metadata": {
  "kernelspec": {
   "display_name": "Python 3 (ipykernel)",
   "language": "python",
   "name": "python3"
  },
  "language_info": {
   "codemirror_mode": {
    "name": "ipython",
    "version": 3
   },
   "file_extension": ".py",
   "mimetype": "text/x-python",
   "name": "python",
   "nbconvert_exporter": "python",
   "pygments_lexer": "ipython3",
   "version": "3.11.5"
  }
 },
 "nbformat": 4,
 "nbformat_minor": 5
}
